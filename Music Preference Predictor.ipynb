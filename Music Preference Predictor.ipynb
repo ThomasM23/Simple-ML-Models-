{
 "cells": [
  {
   "cell_type": "markdown",
   "metadata": {},
   "source": [
    "#My First Notebook"
   ]
  },
  {
   "cell_type": "code",
   "execution_count": 28,
   "metadata": {},
   "outputs": [
    {
     "ename": "SyntaxError",
     "evalue": "invalid syntax (74396760.py, line 19)",
     "output_type": "error",
     "traceback": [
      "\u001b[1;36m  Cell \u001b[1;32mIn[28], line 19\u001b[1;36m\u001b[0m\n\u001b[1;33m    from joblib import(model, 'music-guesser.joblib')\u001b[0m\n\u001b[1;37m                              ^\u001b[0m\n\u001b[1;31mSyntaxError\u001b[0m\u001b[1;31m:\u001b[0m invalid syntax\n"
     ]
    }
   ],
   "source": [
    "##Original code from tutorial at Programming with Mosh: https://www.youtube.com/watch?v=7eh4d6sabA0\n",
    "\n",
    "import pandas as pd\n",
    "from sklearn.tree import DecisionTreeClassifier \n",
    "#from sklearn.model_selection import train_test_split\n",
    "#from sklearn.metrics import accuracy_score\n",
    "from sklearn.externals import joblib\n",
    "\n",
    "music_data = pd.read_csv('ML Music Test.csv')\n",
    "X = music_data.drop(columns=['genre'])\n",
    "y = music_data ['genre']\n",
    "#X_train, X_test, y_train, y_test = train_test_split(X,y, test_size=0.2)\n",
    "\n",
    "model = DecisionTreeClassifier ()\n",
    "model.fit(X,y)\n",
    "#model.fit (X_train,y_train)\n",
    "#predictions = model.predict(X_test)\n",
    "\n",
    "#score = accuracy_score(y_test, predictions)\n",
    "\n",
    "from joblib import(model, 'music-guesser.joblib')\n",
    "\n",
    "# predictions = model.predict ([[21, 1]])\n",
    "\n",
    "\n"
   ]
  }
 ],
 "metadata": {
  "kernelspec": {
   "display_name": "Python 3",
   "language": "python",
   "name": "python3"
  },
  "language_info": {
   "codemirror_mode": {
    "name": "ipython",
    "version": 3
   },
   "file_extension": ".py",
   "mimetype": "text/x-python",
   "name": "python",
   "nbconvert_exporter": "python",
   "pygments_lexer": "ipython3",
   "version": "3.11.5"
  }
 },
 "nbformat": 4,
 "nbformat_minor": 2
}
